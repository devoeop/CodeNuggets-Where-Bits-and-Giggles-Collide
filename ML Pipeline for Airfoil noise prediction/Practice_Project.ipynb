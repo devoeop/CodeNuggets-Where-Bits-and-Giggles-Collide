{
  "cells": [
    {
      "cell_type": "markdown",
      "metadata": {
        "id": "NmPEkeLv89CU"
      },
      "source": [
        "<p style=\"text-align:center\">\n",
        "    <a href=\"https://skills.network/?utm_medium=Exinfluencer&utm_source=Exinfluencer&utm_content=000026UJ&utm_term=10006555&utm_id=NA-SkillsNetwork-Channel-SkillsNetworkCoursesIBMSkillsNetworkBD0231ENCoursera2789-2023-01-01\">\n",
        "    <img src=\"https://cf-courses-data.s3.us.cloud-object-storage.appdomain.cloud/assets/logos/SN_web_lightmode.png\" width=\"200\" alt=\"Skills Network Logo\"  />\n",
        "    </a>\n",
        "</p>\n"
      ]
    },
    {
      "cell_type": "markdown",
      "metadata": {
        "id": "JmBqUUss89CW"
      },
      "source": [
        "## Create a machine learning pipeline for a regression project\n"
      ]
    },
    {
      "cell_type": "markdown",
      "metadata": {
        "id": "n9h1KOH_89CX"
      },
      "source": [
        "## Objectives\n",
        "\n",
        "- Part 1 ETL\n",
        "  - Load a csv dataset\n",
        "  - Remove duplicates if any\n",
        "  - Drop rows with null values if any\n",
        "  - Make transformations\n",
        "  - Store the cleaned data in parquet format\n",
        "- Part 2 Machine Learning Pipeline creation\n",
        "  - Create a machine learning pipeline for prediction\n",
        "- Part 3 Model evaluation\n",
        "  - Evaluate the model using metrics\n",
        "  - Print the intercept and the coefficients\n",
        "- Part 4 Model Persistance\n",
        "  - Save the model for future production use\n",
        "  - Load and verify the stored model\n"
      ]
    },
    {
      "cell_type": "markdown",
      "metadata": {
        "id": "Z2k1mP4u89CX"
      },
      "source": [
        "## Datasets\n",
        "\n",
        "Modified version of car mileage dataset. Original dataset available at https://archive.ics.uci.edu/ml/datasets/auto+mpg\n",
        "\n"
      ]
    },
    {
      "cell_type": "markdown",
      "metadata": {
        "id": "IgBbeL_A89CX"
      },
      "source": [
        "----\n"
      ]
    },
    {
      "cell_type": "markdown",
      "metadata": {
        "id": "KYdLOX2F89CX"
      },
      "source": [
        "## Setup\n"
      ]
    },
    {
      "cell_type": "markdown",
      "metadata": {
        "id": "wpZrh2Tj89CY"
      },
      "source": [
        "We will be using the following libraries:\n",
        "\n",
        "*   [`PySpark`](https://spark.apache.org/docs/latest/api/python/index.html?utm_medium=Exinfluencer&utm_source=Exinfluencer&utm_content=000026UJ&utm_term=10006555&utm_id=NA-SkillsNetwork-Channel-SkillsNetworkCoursesIBMSkillsNetworkBD0231ENCoursera2789-2023-01-01) for connecting to the Spark Cluster\n"
      ]
    },
    {
      "cell_type": "markdown",
      "metadata": {
        "id": "Vl_Cm-gd89CY"
      },
      "source": [
        "### Importing Required Libraries\n"
      ]
    },
    {
      "cell_type": "code",
      "source": [
        "%pip install pyspark\n",
        "%pip install findspark -q"
      ],
      "metadata": {
        "colab": {
          "base_uri": "https://localhost:8080/"
        },
        "id": "cuMpL4He9Mcd",
        "outputId": "d6d6da0b-391f-4cf8-c7de-9ea478938042"
      },
      "execution_count": 2,
      "outputs": [
        {
          "output_type": "stream",
          "name": "stdout",
          "text": [
            "Collecting pyspark\n",
            "  Downloading pyspark-3.5.0.tar.gz (316.9 MB)\n",
            "\u001b[2K     \u001b[90m━━━━━━━━━━━━━━━━━━━━━━━━━━━━━━━━━━━━━━━━\u001b[0m \u001b[32m316.9/316.9 MB\u001b[0m \u001b[31m2.2 MB/s\u001b[0m eta \u001b[36m0:00:00\u001b[0m\n",
            "\u001b[?25h  Preparing metadata (setup.py) ... \u001b[?25l\u001b[?25hdone\n",
            "Requirement already satisfied: py4j==0.10.9.7 in /usr/local/lib/python3.10/dist-packages (from pyspark) (0.10.9.7)\n",
            "Building wheels for collected packages: pyspark\n",
            "  Building wheel for pyspark (setup.py) ... \u001b[?25l\u001b[?25hdone\n",
            "  Created wheel for pyspark: filename=pyspark-3.5.0-py2.py3-none-any.whl size=317425344 sha256=07b76d3eb4296ca91b4a7161649d6a4a4e430e108a2add3d8b36d59cd1c7d3b9\n",
            "  Stored in directory: /root/.cache/pip/wheels/41/4e/10/c2cf2467f71c678cfc8a6b9ac9241e5e44a01940da8fbb17fc\n",
            "Successfully built pyspark\n",
            "Installing collected packages: pyspark\n",
            "Successfully installed pyspark-3.5.0\n"
          ]
        }
      ]
    },
    {
      "cell_type": "code",
      "execution_count": 3,
      "metadata": {
        "vscode": {
          "languageId": "powershell"
        },
        "id": "DxPygk7s89CY"
      },
      "outputs": [],
      "source": [
        "def warn(*args, **kwargs):\n",
        "    pass\n",
        "import warnings\n",
        "warnings.warn = warn\n",
        "warnings.filterwarnings('ignore')\n",
        "\n",
        "# FindSpark simplifies the process of using Apache Spark with Python\n",
        "\n",
        "import findspark\n",
        "findspark.init()"
      ]
    },
    {
      "cell_type": "code",
      "execution_count": 4,
      "metadata": {
        "vscode": {
          "languageId": "powershell"
        },
        "id": "JwlgzhuJ89CZ"
      },
      "outputs": [],
      "source": [
        "from pyspark.sql import SparkSession\n",
        "from pyspark.ml import Pipeline\n",
        "from pyspark.ml.pipeline import PipelineModel\n",
        "from pyspark.ml.feature import VectorAssembler\n",
        "from pyspark.ml.regression import LinearRegression\n",
        "from pyspark.ml.feature import StringIndexer\n",
        "from pyspark.ml.feature import StandardScaler"
      ]
    },
    {
      "cell_type": "markdown",
      "metadata": {
        "id": "wq1XcJwU89CZ"
      },
      "source": [
        "## Part 1 - ETL\n"
      ]
    },
    {
      "cell_type": "code",
      "execution_count": 5,
      "metadata": {
        "vscode": {
          "languageId": "powershell"
        },
        "id": "7obM1doU89CZ"
      },
      "outputs": [],
      "source": [
        "#Create SparkSession\n",
        "\n",
        "spark = SparkSession.builder.getOrCreate()"
      ]
    },
    {
      "cell_type": "markdown",
      "metadata": {
        "id": "pWY_H_ec89CZ"
      },
      "source": [
        "Download the data file\n"
      ]
    },
    {
      "cell_type": "code",
      "execution_count": 6,
      "metadata": {
        "vscode": {
          "languageId": "powershell"
        },
        "colab": {
          "base_uri": "https://localhost:8080/"
        },
        "id": "hgRyOz1589CZ",
        "outputId": "17dbbdbc-3de0-4839-ab0f-1236b4b563e1"
      },
      "outputs": [
        {
          "output_type": "stream",
          "name": "stdout",
          "text": [
            "--2023-11-24 15:32:29--  https://cf-courses-data.s3.us.cloud-object-storage.appdomain.cloud/IBMSkillsNetwork-BD0231EN-Coursera/datasets/mpg-raw.csv\n",
            "Resolving cf-courses-data.s3.us.cloud-object-storage.appdomain.cloud (cf-courses-data.s3.us.cloud-object-storage.appdomain.cloud)... 169.63.118.104\n",
            "Connecting to cf-courses-data.s3.us.cloud-object-storage.appdomain.cloud (cf-courses-data.s3.us.cloud-object-storage.appdomain.cloud)|169.63.118.104|:443... connected.\n",
            "HTTP request sent, awaiting response... 200 OK\n",
            "Length: 14354 (14K) [text/csv]\n",
            "Saving to: ‘mpg-raw.csv’\n",
            "\n",
            "\rmpg-raw.csv           0%[                    ]       0  --.-KB/s               \rmpg-raw.csv         100%[===================>]  14.02K  --.-KB/s    in 0s      \n",
            "\n",
            "2023-11-24 15:32:29 (214 MB/s) - ‘mpg-raw.csv’ saved [14354/14354]\n",
            "\n"
          ]
        }
      ],
      "source": [
        "!wget https://cf-courses-data.s3.us.cloud-object-storage.appdomain.cloud/IBMSkillsNetwork-BD0231EN-Coursera/datasets/mpg-raw.csv"
      ]
    },
    {
      "cell_type": "markdown",
      "metadata": {
        "id": "ydKr5gNX89Ca"
      },
      "source": [
        "Load the dataset into the spark dataframe\n"
      ]
    },
    {
      "cell_type": "code",
      "execution_count": 7,
      "metadata": {
        "vscode": {
          "languageId": "powershell"
        },
        "id": "zC0-33q189Ca"
      },
      "outputs": [],
      "source": [
        "# Load dataset\n",
        "df = spark.read.csv(\"mpg-raw.csv\", header=True, inferSchema=True)"
      ]
    },
    {
      "cell_type": "code",
      "execution_count": 8,
      "metadata": {
        "tags": [],
        "vscode": {
          "languageId": "powershell"
        },
        "colab": {
          "base_uri": "https://localhost:8080/"
        },
        "id": "e7vOpdyR89Ca",
        "outputId": "799e9d51-05cf-491c-d063-d026759bfc98"
      },
      "outputs": [
        {
          "output_type": "stream",
          "name": "stdout",
          "text": [
            "+----+---------+-----------+----------+------+----------+----+--------+\n",
            "| MPG|Cylinders|Engine Disp|Horsepower|Weight|Accelerate|Year|  Origin|\n",
            "+----+---------+-----------+----------+------+----------+----+--------+\n",
            "|46.6|        4|       86.0|        65|  2110|      17.9|  80|Japanese|\n",
            "|44.6|        4|       91.0|        67|  1850|      13.8|  80|Japanese|\n",
            "|44.3|        4|       90.0|        48|  2085|      21.7|  80|European|\n",
            "|44.0|        4|       97.0|        52|  2130|      24.6|  82|European|\n",
            "|43.4|        4|       90.0|        48|  2335|      23.7|  80|European|\n",
            "+----+---------+-----------+----------+------+----------+----+--------+\n",
            "only showing top 5 rows\n",
            "\n"
          ]
        }
      ],
      "source": [
        "df.show(5)"
      ]
    },
    {
      "cell_type": "code",
      "execution_count": 9,
      "metadata": {
        "tags": [],
        "vscode": {
          "languageId": "powershell"
        },
        "colab": {
          "base_uri": "https://localhost:8080/"
        },
        "id": "YevIHxme89Ca",
        "outputId": "1c51cd06-1a18-44e7-ebf8-078db4e97a85"
      },
      "outputs": [
        {
          "output_type": "stream",
          "name": "stdout",
          "text": [
            "+--------+-----+\n",
            "|  Origin|count|\n",
            "+--------+-----+\n",
            "|    NULL|    1|\n",
            "|European|   70|\n",
            "|Japanese|   88|\n",
            "|American|  247|\n",
            "+--------+-----+\n",
            "\n"
          ]
        }
      ],
      "source": [
        "df.groupBy('Origin').count().orderBy('count').show()"
      ]
    },
    {
      "cell_type": "code",
      "execution_count": 10,
      "metadata": {
        "tags": [],
        "vscode": {
          "languageId": "powershell"
        },
        "colab": {
          "base_uri": "https://localhost:8080/"
        },
        "id": "jC_7ZZNk89Ca",
        "outputId": "a3c440e1-12a3-4535-e13e-d348e0f74967"
      },
      "outputs": [
        {
          "output_type": "stream",
          "name": "stdout",
          "text": [
            "406\n"
          ]
        }
      ],
      "source": [
        "rowcount1 = df.count()\n",
        "print(rowcount1)"
      ]
    },
    {
      "cell_type": "code",
      "execution_count": 11,
      "metadata": {
        "tags": [],
        "vscode": {
          "languageId": "powershell"
        },
        "id": "uB9a4tZ489Ca"
      },
      "outputs": [],
      "source": [
        "df = df.dropDuplicates()"
      ]
    },
    {
      "cell_type": "code",
      "execution_count": 12,
      "metadata": {
        "tags": [],
        "vscode": {
          "languageId": "powershell"
        },
        "colab": {
          "base_uri": "https://localhost:8080/"
        },
        "id": "9F-xAUSr89Ca",
        "outputId": "eb008377-9423-44a4-b68f-dfb708d8b113"
      },
      "outputs": [
        {
          "output_type": "stream",
          "name": "stdout",
          "text": [
            "392\n"
          ]
        }
      ],
      "source": [
        "rowcount2 = df.count()\n",
        "print(rowcount2)"
      ]
    },
    {
      "cell_type": "code",
      "execution_count": 13,
      "metadata": {
        "tags": [],
        "vscode": {
          "languageId": "powershell"
        },
        "id": "FZjrxPg989Ca"
      },
      "outputs": [],
      "source": [
        "df=df.dropna()"
      ]
    },
    {
      "cell_type": "code",
      "execution_count": 14,
      "metadata": {
        "tags": [],
        "vscode": {
          "languageId": "powershell"
        },
        "colab": {
          "base_uri": "https://localhost:8080/"
        },
        "id": "Bumgksw_89Ca",
        "outputId": "64e8bf36-0d1f-4c25-d885-0b7b6aa8a2d6"
      },
      "outputs": [
        {
          "output_type": "stream",
          "name": "stdout",
          "text": [
            "385\n"
          ]
        }
      ],
      "source": [
        "rowcount3 = df.count()\n",
        "print(rowcount3)"
      ]
    },
    {
      "cell_type": "code",
      "execution_count": 15,
      "metadata": {
        "tags": [],
        "vscode": {
          "languageId": "powershell"
        },
        "id": "W9yGVG7f89Cb"
      },
      "outputs": [],
      "source": [
        "df = df.withColumnRenamed(\"Engine Disp\",\"Engine_Disp\")"
      ]
    },
    {
      "cell_type": "code",
      "execution_count": 16,
      "metadata": {
        "tags": [],
        "vscode": {
          "languageId": "powershell"
        },
        "id": "7tMPXHOs89Cb"
      },
      "outputs": [],
      "source": [
        "df.write.mode(\"overwrite\").parquet(\"mpg-cleaned.parquet\")"
      ]
    },
    {
      "cell_type": "code",
      "execution_count": 17,
      "metadata": {
        "tags": [],
        "vscode": {
          "languageId": "powershell"
        },
        "colab": {
          "base_uri": "https://localhost:8080/"
        },
        "id": "x1sY6WCo89Cb",
        "outputId": "66a104f5-18d7-4c8a-985a-764342333d08"
      },
      "outputs": [
        {
          "output_type": "stream",
          "name": "stdout",
          "text": [
            "Part 1 - Evaluation\n",
            "Total rows =  406\n",
            "Total rows after dropping duplicate rows =  392\n",
            "Total rows after dropping duplicate rows and rows with null values =  385\n",
            "Renamed column name =  Engine_Disp\n",
            "mpg-cleaned.parquet exists : True\n"
          ]
        }
      ],
      "source": [
        "print(\"Part 1 - Evaluation\")\n",
        "\n",
        "print(\"Total rows = \", rowcount1)\n",
        "print(\"Total rows after dropping duplicate rows = \", rowcount2)\n",
        "print(\"Total rows after dropping duplicate rows and rows with null values = \", rowcount3)\n",
        "print(\"Renamed column name = \", df.columns[2])\n",
        "\n",
        "import os\n",
        "\n",
        "print(\"mpg-cleaned.parquet exists :\", os.path.isdir(\"mpg-cleaned.parquet\"))"
      ]
    },
    {
      "cell_type": "markdown",
      "metadata": {
        "id": "9vBKFlDl89Cb"
      },
      "source": [
        "## Part - 2 Machine Learning Pipeline creation\n"
      ]
    },
    {
      "cell_type": "code",
      "execution_count": 18,
      "metadata": {
        "tags": [],
        "vscode": {
          "languageId": "powershell"
        },
        "colab": {
          "base_uri": "https://localhost:8080/"
        },
        "id": "eBFntIpw89Cb",
        "outputId": "ec1e7631-f479-440c-e663-df9a1f95f081"
      },
      "outputs": [
        {
          "output_type": "stream",
          "name": "stdout",
          "text": [
            "385\n"
          ]
        }
      ],
      "source": [
        "df = spark.read.parquet(\"mpg-cleaned.parquet\")\n",
        "print(df.count())"
      ]
    },
    {
      "cell_type": "code",
      "execution_count": 19,
      "metadata": {
        "tags": [],
        "vscode": {
          "languageId": "powershell"
        },
        "colab": {
          "base_uri": "https://localhost:8080/"
        },
        "id": "U_8Ub9L089Cb",
        "outputId": "d841b053-b856-44d4-ae47-441c5022f860"
      },
      "outputs": [
        {
          "output_type": "stream",
          "name": "stdout",
          "text": [
            "+----+---------+-----------+----------+------+----------+----+--------+\n",
            "| MPG|Cylinders|Engine_Disp|Horsepower|Weight|Accelerate|Year|  Origin|\n",
            "+----+---------+-----------+----------+------+----------+----+--------+\n",
            "|24.0|        4|      134.0|        96|  2702|      13.5|  75|Japanese|\n",
            "|18.0|        6|      250.0|        88|  3139|      14.5|  71|American|\n",
            "|29.0|        4|       68.0|        49|  1867|      19.5|  73|European|\n",
            "|22.4|        6|      231.0|       110|  3415|      15.8|  81|American|\n",
            "|20.5|        6|      231.0|       105|  3425|      16.9|  77|American|\n",
            "+----+---------+-----------+----------+------+----------+----+--------+\n",
            "only showing top 5 rows\n",
            "\n"
          ]
        }
      ],
      "source": [
        "#show top 5 rows\n",
        "df.show(5)"
      ]
    },
    {
      "cell_type": "code",
      "execution_count": 20,
      "metadata": {
        "tags": [],
        "vscode": {
          "languageId": "powershell"
        },
        "colab": {
          "base_uri": "https://localhost:8080/"
        },
        "id": "HijzoMII89Cb",
        "outputId": "7ccd99c0-9045-4e0b-efe4-97b9b40d9bfb"
      },
      "outputs": [
        {
          "output_type": "execute_result",
          "data": {
            "text/plain": [
              "StructType([StructField('MPG', DoubleType(), True), StructField('Cylinders', IntegerType(), True), StructField('Engine_Disp', DoubleType(), True), StructField('Horsepower', IntegerType(), True), StructField('Weight', IntegerType(), True), StructField('Accelerate', DoubleType(), True), StructField('Year', IntegerType(), True), StructField('Origin', StringType(), True)])"
            ]
          },
          "metadata": {},
          "execution_count": 20
        }
      ],
      "source": [
        "#print the schema of the dataframe\n",
        "df.schema"
      ]
    },
    {
      "cell_type": "code",
      "execution_count": 21,
      "metadata": {
        "vscode": {
          "languageId": "powershell"
        },
        "id": "2ofRVkGr89Cb"
      },
      "outputs": [],
      "source": [
        "# Stage - 1 Using StringIndexer convert the string column \"Origin\" into \"OriginIndex\"\n",
        "indexer = StringIndexer(inputCol=\"Origin\", outputCol=\"OriginIndex\")"
      ]
    },
    {
      "cell_type": "code",
      "execution_count": 22,
      "metadata": {
        "vscode": {
          "languageId": "powershell"
        },
        "id": "24SrKcmT89Cb"
      },
      "outputs": [],
      "source": [
        "# Stage 2 - assemble the input columns 'Cylinders','Engine_Disp','Horsepower','Weight','Accelerate','Year' into a single column \"features\"\n",
        "assembler = VectorAssembler(inputCols=['Cylinders','Engine_Disp','Horsepower','Weight','Accelerate','Year'], outputCol=\"features\")"
      ]
    },
    {
      "cell_type": "code",
      "execution_count": 23,
      "metadata": {
        "vscode": {
          "languageId": "powershell"
        },
        "id": "dFyphQbI89Cb"
      },
      "outputs": [],
      "source": [
        "# Stage 3 - scale the \"features\" using standard scaler and store in \"scaledFeatures\" column\n",
        "scaler = StandardScaler(inputCol=\"features\", outputCol=\"scaledFeatures\")"
      ]
    },
    {
      "cell_type": "code",
      "execution_count": 24,
      "metadata": {
        "vscode": {
          "languageId": "powershell"
        },
        "id": "llRgOVbN89Cb"
      },
      "outputs": [],
      "source": [
        "# Stage 4 - Create a LinearRegression stage to predict \"MPG\"\n",
        "lr = LinearRegression(featuresCol=\"features\", labelCol=\"MPG\")"
      ]
    },
    {
      "cell_type": "code",
      "execution_count": 25,
      "metadata": {
        "vscode": {
          "languageId": "powershell"
        },
        "id": "dTcR6nP589Cb"
      },
      "outputs": [],
      "source": [
        "# Build a pipeline using the above four stages\n",
        "pipeline = Pipeline(stages=[indexer,assembler, scaler, lr])"
      ]
    },
    {
      "cell_type": "code",
      "execution_count": 26,
      "metadata": {
        "vscode": {
          "languageId": "powershell"
        },
        "id": "kIEXjVBA89Cb"
      },
      "outputs": [],
      "source": [
        "# Split the data into training and testing sets with 70:30 split. Use 42 as seed\n",
        "(trainingData, testingData) = df.randomSplit([0.7, 0.3], seed=42)"
      ]
    },
    {
      "cell_type": "code",
      "execution_count": 27,
      "metadata": {
        "vscode": {
          "languageId": "powershell"
        },
        "id": "1_Ppp8jn89Cc"
      },
      "outputs": [],
      "source": [
        "# Fit the pipeline using the training data\n",
        "pipelineModel = pipeline.fit(trainingData)"
      ]
    },
    {
      "cell_type": "code",
      "execution_count": 28,
      "metadata": {
        "vscode": {
          "languageId": "powershell"
        },
        "colab": {
          "base_uri": "https://localhost:8080/"
        },
        "id": "f5SsJTeR89Cc",
        "outputId": "18504aed-b76e-4369-8bf1-ed86f6d07852"
      },
      "outputs": [
        {
          "output_type": "stream",
          "name": "stdout",
          "text": [
            "Part 2 - Evaluation\n",
            "Total rows =  385\n",
            "Pipeline Stage 1 =  StringIndexer\n",
            "Pipeline Stage 2 =  VectorAssembler\n",
            "Pipeline Stage 3 =  StandardScaler\n",
            "Label column =  MPG\n"
          ]
        }
      ],
      "source": [
        "print(\"Part 2 - Evaluation\")\n",
        "print(\"Total rows = \", df.count())\n",
        "ps = [str(x).split(\"_\")[0] for x in pipeline.getStages()]\n",
        "\n",
        "print(\"Pipeline Stage 1 = \", ps[0])\n",
        "print(\"Pipeline Stage 2 = \", ps[1])\n",
        "print(\"Pipeline Stage 3 = \", ps[2])\n",
        "\n",
        "print(\"Label column = \", lr.getLabelCol())"
      ]
    },
    {
      "cell_type": "markdown",
      "metadata": {
        "id": "S_6YlcW-89Cc"
      },
      "source": [
        "## Part 3 - Model Evaluation\n"
      ]
    },
    {
      "cell_type": "code",
      "execution_count": 29,
      "metadata": {
        "vscode": {
          "languageId": "powershell"
        },
        "id": "fOOgEaBu89Ci"
      },
      "outputs": [],
      "source": [
        "# Make predictions on testing data\n",
        "predictions = pipelineModel.transform(testingData)"
      ]
    },
    {
      "cell_type": "code",
      "execution_count": 30,
      "metadata": {
        "vscode": {
          "languageId": "powershell"
        },
        "colab": {
          "base_uri": "https://localhost:8080/"
        },
        "id": "sJNExSSL89Cj",
        "outputId": "37bcd888-7f64-44a8-88dc-5cbb4d258e56"
      },
      "outputs": [
        {
          "output_type": "stream",
          "name": "stdout",
          "text": [
            "12.226745835566769\n"
          ]
        }
      ],
      "source": [
        "from pyspark.ml.evaluation import RegressionEvaluator\n",
        "\n",
        "evaluator = RegressionEvaluator(predictionCol=\"prediction\", labelCol=\"MPG\", metricName=\"mse\")\n",
        "mse = evaluator.evaluate(predictions)\n",
        "print(mse)"
      ]
    },
    {
      "cell_type": "code",
      "execution_count": 31,
      "metadata": {
        "vscode": {
          "languageId": "powershell"
        },
        "colab": {
          "base_uri": "https://localhost:8080/"
        },
        "id": "h9kUBbjP89Cj",
        "outputId": "b5164061-b1b9-4b4d-81ae-974510605a3e"
      },
      "outputs": [
        {
          "output_type": "stream",
          "name": "stdout",
          "text": [
            "2.845715113013043\n"
          ]
        }
      ],
      "source": [
        "evaluator = RegressionEvaluator(predictionCol=\"prediction\", labelCol=\"MPG\", metricName=\"mae\")\n",
        "mae = evaluator.evaluate(predictions)\n",
        "print(mae)"
      ]
    },
    {
      "cell_type": "code",
      "execution_count": 32,
      "metadata": {
        "vscode": {
          "languageId": "powershell"
        },
        "colab": {
          "base_uri": "https://localhost:8080/"
        },
        "id": "T21dw1J289Cj",
        "outputId": "b5241486-d2f1-46da-fb42-db378c7072fe"
      },
      "outputs": [
        {
          "output_type": "stream",
          "name": "stdout",
          "text": [
            "0.801873739489645\n"
          ]
        }
      ],
      "source": [
        "evaluator = RegressionEvaluator(predictionCol=\"prediction\", labelCol=\"MPG\", metricName=\"r2\")\n",
        "r2 = evaluator.evaluate(predictions)\n",
        "print(r2)"
      ]
    },
    {
      "cell_type": "code",
      "execution_count": 33,
      "metadata": {
        "vscode": {
          "languageId": "powershell"
        },
        "colab": {
          "base_uri": "https://localhost:8080/"
        },
        "id": "SUVDVmhE89Cj",
        "outputId": "fe83ae82-406f-4444-abfd-d85dce687f88"
      },
      "outputs": [
        {
          "output_type": "stream",
          "name": "stdout",
          "text": [
            "Part 3 - Evaluation\n",
            "Mean Squared Error =  12.23\n",
            "Mean Absolute Error =  2.85\n",
            "R Squared =  0.8\n",
            "Intercept =  -17.37\n"
          ]
        }
      ],
      "source": [
        "print(\"Part 3 - Evaluation\")\n",
        "\n",
        "print(\"Mean Squared Error = \", round(mse,2))\n",
        "print(\"Mean Absolute Error = \", round(mae,2))\n",
        "print(\"R Squared = \", round(r2,2))\n",
        "\n",
        "lrModel = pipelineModel.stages[-1]\n",
        "\n",
        "print(\"Intercept = \", round(lrModel.intercept,2))"
      ]
    },
    {
      "cell_type": "markdown",
      "metadata": {
        "id": "emDKWode89Cj"
      },
      "source": [
        "## Part 4 - Model persistance\n"
      ]
    },
    {
      "cell_type": "code",
      "execution_count": 34,
      "metadata": {
        "vscode": {
          "languageId": "powershell"
        },
        "id": "I53AeJrQ89Cj"
      },
      "outputs": [],
      "source": [
        "# Save the pipeline model\n",
        "pipelineModel.write().overwrite().save(\"Practice_Project\")"
      ]
    },
    {
      "cell_type": "code",
      "execution_count": 35,
      "metadata": {
        "vscode": {
          "languageId": "powershell"
        },
        "id": "cz6qBoFX89Cj"
      },
      "outputs": [],
      "source": [
        "# Load the pipeline model\n",
        "loadedPipelineModel = PipelineModel.load(\"Practice_Project\")"
      ]
    },
    {
      "cell_type": "code",
      "execution_count": 36,
      "metadata": {
        "vscode": {
          "languageId": "powershell"
        },
        "id": "J49UGH1w89Cj"
      },
      "outputs": [],
      "source": [
        "# Use the loaded pipeline model for predictions\n",
        "predictions = loadedPipelineModel.transform(testingData)"
      ]
    },
    {
      "cell_type": "code",
      "execution_count": 37,
      "metadata": {
        "vscode": {
          "languageId": "powershell"
        },
        "colab": {
          "base_uri": "https://localhost:8080/"
        },
        "id": "Io7dKYDp89Cj",
        "outputId": "76a5d2ad-d805-4333-f91c-3c21a0e36e6b"
      },
      "outputs": [
        {
          "output_type": "stream",
          "name": "stdout",
          "text": [
            "+----+------------------+\n",
            "| MPG|        prediction|\n",
            "+----+------------------+\n",
            "|10.0| 6.960764577507479|\n",
            "|11.0| 8.545911819810382|\n",
            "|12.0|10.226709705747357|\n",
            "|12.0| 5.446415257216561|\n",
            "|13.0|21.430212400588545|\n",
            "|13.0| 17.43779207805767|\n",
            "|13.0|11.245494102903642|\n",
            "|13.0|14.180626433499196|\n",
            "|13.0| 9.959082691690636|\n",
            "|13.0|11.111417171061483|\n",
            "|13.0| 13.17091781181795|\n",
            "|13.0|10.889439874579814|\n",
            "|13.0| 7.144536211558332|\n",
            "|13.0| 4.279565485358152|\n",
            "|13.0|  8.61119245028016|\n",
            "|14.0|10.356052138541756|\n",
            "|14.0| 16.05730844627147|\n",
            "|14.0|12.327668542375246|\n",
            "|14.0|10.787367112522794|\n",
            "|14.0| 10.98393562815777|\n",
            "+----+------------------+\n",
            "only showing top 20 rows\n",
            "\n"
          ]
        }
      ],
      "source": [
        "predictions.select(\"MPG\",\"prediction\").show()"
      ]
    },
    {
      "cell_type": "code",
      "execution_count": 38,
      "metadata": {
        "vscode": {
          "languageId": "powershell"
        },
        "colab": {
          "base_uri": "https://localhost:8080/"
        },
        "id": "N0lC5ugI89Cj",
        "outputId": "c181b3b6-cd0d-463e-f21e-09ad4e84a37c"
      },
      "outputs": [
        {
          "output_type": "stream",
          "name": "stdout",
          "text": [
            "Part 4 - Evaluation\n",
            "Number of stages in the pipeline =  4\n",
            "Coefficient for Cylinders is 0.0716\n",
            "Coefficient for Engine_Disp is 0.005\n",
            "Coefficient for Horsepower is -0.0068\n",
            "Coefficient for Weight is -0.0072\n",
            "Coefficient for Accelerate is 0.0866\n",
            "Coefficient for Year is 0.7911\n"
          ]
        }
      ],
      "source": [
        "print(\"Part 4 - Evaluation\")\n",
        "\n",
        "loadedmodel = loadedPipelineModel.stages[-1]\n",
        "totalstages = len(loadedPipelineModel.stages)\n",
        "inputcolumns = loadedPipelineModel.stages[1].getInputCols()\n",
        "\n",
        "print(\"Number of stages in the pipeline = \", totalstages)\n",
        "for i,j in zip(inputcolumns, loadedmodel.coefficients):\n",
        "    print(f\"Coefficient for {i} is {round(j,4)}\")"
      ]
    },
    {
      "cell_type": "code",
      "execution_count": 39,
      "metadata": {
        "vscode": {
          "languageId": "powershell"
        },
        "id": "VrXACroD89Cj"
      },
      "outputs": [],
      "source": [
        "spark.stop()"
      ]
    }
  ],
  "metadata": {
    "kernelspec": {
      "display_name": "Python 3",
      "language": "python",
      "name": "python3"
    },
    "language_info": {
      "codemirror_mode": {
        "name": "ipython",
        "version": 3
      },
      "file_extension": ".py",
      "mimetype": "text/x-python",
      "name": "python",
      "nbconvert_exporter": "python",
      "pygments_lexer": "ipython3",
      "version": "3.11.4"
    },
    "colab": {
      "provenance": []
    }
  },
  "nbformat": 4,
  "nbformat_minor": 0
}