{
  "cells": [
    {
      "cell_type": "markdown",
      "metadata": {
        "id": "gXTSH4jXs2-S"
      },
      "source": [
        "## Build an ML Pipeline for Airfoil noise prediction\n"
      ]
    },
    {
      "cell_type": "markdown",
      "metadata": {
        "id": "xhZR4Db_s2-S"
      },
      "source": [
        "## Scenario\n"
      ]
    },
    {
      "cell_type": "markdown",
      "metadata": {
        "id": "-UsA01irs2-T"
      },
      "source": [
        "In this project we will use the modified version of the NASA Airfoil Self Noise dataset. We will clean this dataset, by dropping the duplicate rows, and removing the rows with null values. We will create an ML pipe line to create a model that will predict the SoundLevel based on all the other columns. We will evaluate the model and towards the end you will persist the model.\n"
      ]
    },
    {
      "cell_type": "markdown",
      "metadata": {
        "id": "eS56dG9Ms2-T"
      },
      "source": [
        "## Objectives\n",
        "\n",
        "- Part 1 Perform ETL activity\n",
        "  - Load a csv dataset\n",
        "  - Remove duplicates if any\n",
        "  - Drop rows with null values if any\n",
        "  - Make transformations\n",
        "  - Store the cleaned data in parquet format\n",
        "- Part 2 Create a  Machine Learning Pipeline\n",
        "  - Create a machine learning pipeline for prediction\n",
        "- Part 3 Evaluate the Model\n",
        "  - Evaluate the model using relevant metrics\n",
        "- Part 4 Persist the Model\n",
        "  - Save the model for future production use\n",
        "  - Load and verify the stored model\n"
      ]
    },
    {
      "cell_type": "markdown",
      "metadata": {
        "id": "2AQW3AHDs2-T"
      },
      "source": [
        "## Datasets\n",
        "\n",
        "We will be using dataset(s):\n",
        "\n",
        " - The original dataset can be found here NASA airfoil self noise dataset. https://archive.ics.uci.edu/dataset/291/airfoil+self+noise\n",
        "\n",
        " - This dataset is licensed under a Creative Commons Attribution 4.0 International (CC BY 4.0) license.\n"
      ]
    },
    {
      "cell_type": "markdown",
      "metadata": {
        "id": "DZn20Q6Qs2-T"
      },
      "source": [
        "Diagram of an airfoil. - For informational purpose\n"
      ]
    },
    {
      "cell_type": "markdown",
      "metadata": {
        "id": "QeiFACBYs2-T"
      },
      "source": [
        "![Airfoil with flow](https://cf-courses-data.s3.us.cloud-object-storage.appdomain.cloud/IBMSkillsNetwork-BD0231EN-Coursera/images/Airfoil_with_flow.png)\n"
      ]
    },
    {
      "cell_type": "markdown",
      "metadata": {
        "id": "nNDtPDKns2-T"
      },
      "source": [
        "Diagram showing the Angle of attack. - For informational purpose\n"
      ]
    },
    {
      "cell_type": "markdown",
      "metadata": {
        "id": "3gReEeIGs2-T"
      },
      "source": [
        "![Airfoil angle of attack](https://cf-courses-data.s3.us.cloud-object-storage.appdomain.cloud/IBMSkillsNetwork-BD0231EN-Coursera/images/Airfoil_angle_of_attack.jpg)\n"
      ]
    },
    {
      "cell_type": "code",
      "execution_count": 1,
      "metadata": {
        "tags": [],
        "colab": {
          "base_uri": "https://localhost:8080/"
        },
        "id": "ieMlI41Js2-T",
        "outputId": "2092989c-23e2-41de-882c-02323d4367b1"
      },
      "outputs": [
        {
          "output_type": "stream",
          "name": "stdout",
          "text": [
            "\u001b[2K     \u001b[90m━━━━━━━━━━━━━━━━━━━━━━━━━━━━━━━━━━━━━━━━\u001b[0m \u001b[32m212.4/212.4 MB\u001b[0m \u001b[31m5.2 MB/s\u001b[0m eta \u001b[36m0:00:00\u001b[0m\n",
            "\u001b[?25h  Preparing metadata (setup.py) ... \u001b[?25l\u001b[?25hdone\n",
            "\u001b[2K     \u001b[90m━━━━━━━━━━━━━━━━━━━━━━━━━━━━━━━━━━━━━━━━\u001b[0m \u001b[32m198.6/198.6 kB\u001b[0m \u001b[31m21.2 MB/s\u001b[0m eta \u001b[36m0:00:00\u001b[0m\n",
            "\u001b[?25h  Building wheel for pyspark (setup.py) ... \u001b[?25l\u001b[?25hdone\n"
          ]
        }
      ],
      "source": [
        "!pip install pyspark==3.1.2 -q\n",
        "!pip install findspark -q"
      ]
    },
    {
      "cell_type": "code",
      "execution_count": 2,
      "metadata": {
        "tags": [],
        "id": "vnqrdqvVs2-U"
      },
      "outputs": [],
      "source": [
        "def warn(*args, **kwargs):\n",
        "    pass\n",
        "import warnings\n",
        "warnings.warn = warn\n",
        "warnings.filterwarnings('ignore')\n",
        "\n",
        "# FindSpark simplifies the process of using Apache Spark with Python\n",
        "\n",
        "import findspark\n",
        "findspark.init()"
      ]
    },
    {
      "cell_type": "markdown",
      "metadata": {
        "id": "MjUKUXfMs2-U"
      },
      "source": [
        "## Part 1 - Perform ETL activity\n"
      ]
    },
    {
      "cell_type": "code",
      "execution_count": 3,
      "metadata": {
        "tags": [],
        "id": "98w9NtISs2-U"
      },
      "outputs": [],
      "source": [
        "from pyspark.sql import SparkSession\n",
        "from pyspark.ml import Pipeline\n",
        "from pyspark.ml.pipeline import PipelineModel\n",
        "from pyspark.ml.feature import VectorAssembler\n",
        "from pyspark.ml.regression import LinearRegression\n",
        "from pyspark.ml.feature import StringIndexer\n",
        "from pyspark.ml.feature import StandardScaler"
      ]
    },
    {
      "cell_type": "code",
      "execution_count": 4,
      "metadata": {
        "tags": [],
        "id": "qnCWQLTus2-U"
      },
      "outputs": [],
      "source": [
        "#Create SparkSession\n",
        "\n",
        "spark = SparkSession.builder.appName(\"Practice Project\").getOrCreate()"
      ]
    },
    {
      "cell_type": "code",
      "execution_count": 5,
      "metadata": {
        "tags": [],
        "colab": {
          "base_uri": "https://localhost:8080/"
        },
        "id": "NdQpT2A8s2-V",
        "outputId": "d5336022-496e-4859-e393-735ff2a4d7ac"
      },
      "outputs": [
        {
          "output_type": "stream",
          "name": "stdout",
          "text": [
            "--2023-11-25 18:25:24--  https://cf-courses-data.s3.us.cloud-object-storage.appdomain.cloud/IBMSkillsNetwork-BD0231EN-Coursera/datasets/NASA_airfoil_noise_raw.csv\n",
            "Resolving cf-courses-data.s3.us.cloud-object-storage.appdomain.cloud (cf-courses-data.s3.us.cloud-object-storage.appdomain.cloud)... 169.63.118.104\n",
            "Connecting to cf-courses-data.s3.us.cloud-object-storage.appdomain.cloud (cf-courses-data.s3.us.cloud-object-storage.appdomain.cloud)|169.63.118.104|:443... connected.\n",
            "HTTP request sent, awaiting response... 200 OK\n",
            "Length: 60682 (59K) [text/csv]\n",
            "Saving to: ‘NASA_airfoil_noise_raw.csv’\n",
            "\n",
            "\r          NASA_airf   0%[                    ]       0  --.-KB/s               \rNASA_airfoil_noise_ 100%[===================>]  59.26K  --.-KB/s    in 0.007s  \n",
            "\n",
            "2023-11-25 18:25:24 (7.75 MB/s) - ‘NASA_airfoil_noise_raw.csv’ saved [60682/60682]\n",
            "\n"
          ]
        }
      ],
      "source": [
        "!wget https://cf-courses-data.s3.us.cloud-object-storage.appdomain.cloud/IBMSkillsNetwork-BD0231EN-Coursera/datasets/NASA_airfoil_noise_raw.csv"
      ]
    },
    {
      "cell_type": "markdown",
      "metadata": {
        "id": "w-y_5EVfs2-V"
      },
      "source": [
        "Load the dataset into the spark dataframe\n"
      ]
    },
    {
      "cell_type": "code",
      "execution_count": 6,
      "metadata": {
        "tags": [],
        "id": "c6vOCqXIs2-V"
      },
      "outputs": [],
      "source": [
        "# Load the dataset that you have downloaded in the previous task\n",
        "\n",
        "df = spark.read.csv(\"NASA_airfoil_noise_raw.csv\", header=True, inferSchema=True)"
      ]
    },
    {
      "cell_type": "code",
      "execution_count": 7,
      "metadata": {
        "tags": [],
        "colab": {
          "base_uri": "https://localhost:8080/"
        },
        "id": "HTO2MXZAs2-V",
        "outputId": "e59a9349-93c9-4208-d266-5562d6f94a0e"
      },
      "outputs": [
        {
          "output_type": "stream",
          "name": "stdout",
          "text": [
            "+---------+-------------+-----------+------------------+-----------------------+----------+\n",
            "|Frequency|AngleOfAttack|ChordLength|FreeStreamVelocity|SuctionSideDisplacement|SoundLevel|\n",
            "+---------+-------------+-----------+------------------+-----------------------+----------+\n",
            "|      800|          0.0|     0.3048|              71.3|             0.00266337|   126.201|\n",
            "|     1000|          0.0|     0.3048|              71.3|             0.00266337|   125.201|\n",
            "|     1250|          0.0|     0.3048|              71.3|             0.00266337|   125.951|\n",
            "|     1600|          0.0|     0.3048|              71.3|             0.00266337|   127.591|\n",
            "|     2000|          0.0|     0.3048|              71.3|             0.00266337|   127.461|\n",
            "+---------+-------------+-----------+------------------+-----------------------+----------+\n",
            "only showing top 5 rows\n",
            "\n"
          ]
        }
      ],
      "source": [
        "df.show(5)"
      ]
    },
    {
      "cell_type": "code",
      "execution_count": 8,
      "metadata": {
        "tags": [],
        "colab": {
          "base_uri": "https://localhost:8080/"
        },
        "id": "roE8HSfis2-V",
        "outputId": "eb6359e2-6883-4293-9c11-0c720ebe000f"
      },
      "outputs": [
        {
          "output_type": "stream",
          "name": "stdout",
          "text": [
            "1522\n"
          ]
        }
      ],
      "source": [
        "rowcount1 = df.count()\n",
        "print(rowcount1)"
      ]
    },
    {
      "cell_type": "code",
      "execution_count": 9,
      "metadata": {
        "tags": [],
        "id": "1UUJK3W2s2-V"
      },
      "outputs": [],
      "source": [
        "df = df.dropDuplicates()"
      ]
    },
    {
      "cell_type": "code",
      "execution_count": 10,
      "metadata": {
        "tags": [],
        "colab": {
          "base_uri": "https://localhost:8080/"
        },
        "id": "ldU1erf9s2-V",
        "outputId": "09392091-8ebf-4995-faf4-9163a3c6150c"
      },
      "outputs": [
        {
          "output_type": "stream",
          "name": "stdout",
          "text": [
            "1503\n"
          ]
        }
      ],
      "source": [
        "rowcount2 = df.count()\n",
        "print(rowcount2)"
      ]
    },
    {
      "cell_type": "code",
      "execution_count": 11,
      "metadata": {
        "tags": [],
        "id": "3-WrvdUns2-W"
      },
      "outputs": [],
      "source": [
        "df = df.dropna()"
      ]
    },
    {
      "cell_type": "code",
      "execution_count": 12,
      "metadata": {
        "tags": [],
        "colab": {
          "base_uri": "https://localhost:8080/"
        },
        "id": "W6SJcJTNs2-X",
        "outputId": "cc3b8ca6-92ab-4e7d-b44c-062788f872a7"
      },
      "outputs": [
        {
          "output_type": "stream",
          "name": "stdout",
          "text": [
            "1499\n"
          ]
        }
      ],
      "source": [
        "rowcount3 = df.count()\n",
        "print(rowcount3)"
      ]
    },
    {
      "cell_type": "code",
      "execution_count": 13,
      "metadata": {
        "tags": [],
        "id": "XEfB8CnYs2-X"
      },
      "outputs": [],
      "source": [
        "#Rename the column \"SoundLevel\" to \"SoundLevelDecibels\"Drop\n",
        "\n",
        "df = df.withColumnRenamed(\"SoundLevel\",\"SoundLevelDecibels\")"
      ]
    },
    {
      "cell_type": "code",
      "execution_count": 14,
      "metadata": {
        "tags": [],
        "id": "Y7AfYonOs2-X"
      },
      "outputs": [],
      "source": [
        "df.write.mode(\"overwrite\").parquet(\"NASA_airfoil_noise_cleaned.parquet\")"
      ]
    },
    {
      "cell_type": "code",
      "execution_count": 15,
      "metadata": {
        "tags": [],
        "colab": {
          "base_uri": "https://localhost:8080/"
        },
        "id": "Y9buFGnBs2-X",
        "outputId": "81e4061c-12ad-43e7-fe14-e5ab42ca7a25"
      },
      "outputs": [
        {
          "output_type": "stream",
          "name": "stdout",
          "text": [
            "Part 1 - Evaluation\n",
            "Total rows =  1522\n",
            "Total rows after dropping duplicate rows =  1503\n",
            "Total rows after dropping duplicate rows and rows with null values =  1499\n",
            "New column name =  SoundLevelDecibels\n",
            "NASA_airfoil_noise_cleaned.parquet exists : True\n"
          ]
        }
      ],
      "source": [
        "print(\"Part 1 - Evaluation\")\n",
        "\n",
        "print(\"Total rows = \", rowcount1)\n",
        "print(\"Total rows after dropping duplicate rows = \", rowcount2)\n",
        "print(\"Total rows after dropping duplicate rows and rows with null values = \", rowcount3)\n",
        "print(\"New column name = \", df.columns[-1])\n",
        "\n",
        "import os\n",
        "\n",
        "print(\"NASA_airfoil_noise_cleaned.parquet exists :\", os.path.isdir(\"NASA_airfoil_noise_cleaned.parquet\"))"
      ]
    },
    {
      "cell_type": "markdown",
      "metadata": {
        "id": "aJu3hs1Ds2-Y"
      },
      "source": [
        "## Part - 2 Create a  Machine Learning Pipeline\n"
      ]
    },
    {
      "cell_type": "code",
      "execution_count": 16,
      "metadata": {
        "tags": [],
        "id": "6P4O0lfNs2-Y"
      },
      "outputs": [],
      "source": [
        "df = spark.read.parquet(\"NASA_airfoil_noise_cleaned.parquet\")"
      ]
    },
    {
      "cell_type": "code",
      "execution_count": 17,
      "metadata": {
        "tags": [],
        "colab": {
          "base_uri": "https://localhost:8080/"
        },
        "id": "p4S3ZngWs2-Y",
        "outputId": "d92c7ef4-914c-452f-c449-28b31c91be04"
      },
      "outputs": [
        {
          "output_type": "stream",
          "name": "stdout",
          "text": [
            "1499\n"
          ]
        }
      ],
      "source": [
        "rowcount4 = df.count()\n",
        "print(rowcount4)"
      ]
    },
    {
      "cell_type": "code",
      "execution_count": 18,
      "metadata": {
        "tags": [],
        "colab": {
          "base_uri": "https://localhost:8080/"
        },
        "id": "VKCXH1uzs2-Y",
        "outputId": "8d7ad6aa-53e0-4f86-ee82-51beaa52b38f"
      },
      "outputs": [
        {
          "output_type": "stream",
          "name": "stdout",
          "text": [
            "+---------+-------------+-----------+------------------+-----------------------+------------------+\n",
            "|Frequency|AngleOfAttack|ChordLength|FreeStreamVelocity|SuctionSideDisplacement|SoundLevelDecibels|\n",
            "+---------+-------------+-----------+------------------+-----------------------+------------------+\n",
            "|      630|          0.0|     0.3048|              31.7|             0.00331266|           129.095|\n",
            "|     4000|          0.0|     0.3048|              31.7|             0.00331266|           118.145|\n",
            "|     4000|          1.5|     0.3048|              39.6|             0.00392107|           117.741|\n",
            "|      800|          4.0|     0.3048|              71.3|             0.00497773|           131.755|\n",
            "|     1250|          0.0|     0.2286|              31.7|              0.0027238|           128.805|\n",
            "+---------+-------------+-----------+------------------+-----------------------+------------------+\n",
            "only showing top 5 rows\n",
            "\n"
          ]
        }
      ],
      "source": [
        "df.show(5)"
      ]
    },
    {
      "cell_type": "markdown",
      "metadata": {
        "id": "3w7yra5Ss2-Y"
      },
      "source": [
        "Stage 1 - Assemble the input columns into a single column \"features\". Use all the columns except SoundLevelDecibels as input features.\n"
      ]
    },
    {
      "cell_type": "code",
      "execution_count": 19,
      "metadata": {
        "tags": [],
        "id": "cXkaVi7ws2-Y"
      },
      "outputs": [],
      "source": [
        "assembler = VectorAssembler(inputCols=['Frequency','AngleOfAttack','ChordLength','FreeStreamVelocity','SuctionSideDisplacement'], outputCol=\"features\")"
      ]
    },
    {
      "cell_type": "markdown",
      "metadata": {
        "id": "GSEwv1phs2-Y"
      },
      "source": [
        "Stage 2 - Scale the \"features\" using standard scaler and store in \"scaledFeatures\" column\n"
      ]
    },
    {
      "cell_type": "code",
      "execution_count": 20,
      "metadata": {
        "tags": [],
        "id": "hL7Ce357s2-Y"
      },
      "outputs": [],
      "source": [
        "scaler = StandardScaler(inputCol=\"features\", outputCol=\"scaledFeatures\")"
      ]
    },
    {
      "cell_type": "markdown",
      "metadata": {
        "id": "NecpgbUSs2-Y"
      },
      "source": [
        "Stage 3 - Create a LinearRegression stage to predict \"SoundLevelDecibels\"\n",
        "\n",
        "**Note: We need to use the scaledfeatures retreived in the previous step.**\n"
      ]
    },
    {
      "cell_type": "code",
      "execution_count": 21,
      "metadata": {
        "tags": [],
        "id": "rgTlaT3ks2-Y"
      },
      "outputs": [],
      "source": [
        "lr = LinearRegression(featuresCol=\"scaledFeatures\", labelCol=\"SoundLevelDecibels\")"
      ]
    },
    {
      "cell_type": "markdown",
      "metadata": {
        "id": "Xmld9M7js2-Y"
      },
      "source": [
        "Build a pipeline using the above three stages\n"
      ]
    },
    {
      "cell_type": "code",
      "execution_count": 22,
      "metadata": {
        "tags": [],
        "id": "r_xDvQKhs2-Y"
      },
      "outputs": [],
      "source": [
        "pipeline = Pipeline(stages=[assembler, scaler, lr])"
      ]
    },
    {
      "cell_type": "code",
      "execution_count": 23,
      "metadata": {
        "tags": [],
        "id": "NKWFJ6Ubs2-l"
      },
      "outputs": [],
      "source": [
        "# Split the data into training and testing sets with 70:30 split.\n",
        "# set the value of seed to 42\n",
        "(trainingData, testingData) = df.randomSplit([0.7, 0.3], seed=42)"
      ]
    },
    {
      "cell_type": "code",
      "execution_count": 24,
      "metadata": {
        "tags": [],
        "id": "ZI9I6iH5s2-l"
      },
      "outputs": [],
      "source": [
        "# Fit the pipeline using the training data\n",
        "pipelineModel = pipeline.fit(trainingData)"
      ]
    },
    {
      "cell_type": "code",
      "execution_count": 25,
      "metadata": {
        "tags": [],
        "colab": {
          "base_uri": "https://localhost:8080/"
        },
        "id": "pT4eLzZLs2-l",
        "outputId": "d17bc25e-4cd0-4e04-a2b8-03bca579ed4b"
      },
      "outputs": [
        {
          "output_type": "stream",
          "name": "stdout",
          "text": [
            "Part 2 - Evaluation\n",
            "Total rows =  1499\n",
            "Pipeline Stage 1 =  VectorAssembler\n",
            "Pipeline Stage 2 =  StandardScaler\n",
            "Pipeline Stage 3 =  LinearRegression\n",
            "Label column =  SoundLevelDecibels\n"
          ]
        }
      ],
      "source": [
        "print(\"Part 2 - Evaluation\")\n",
        "print(\"Total rows = \", rowcount4)\n",
        "ps = [str(x).split(\"_\")[0] for x in pipeline.getStages()]\n",
        "\n",
        "print(\"Pipeline Stage 1 = \", ps[0])\n",
        "print(\"Pipeline Stage 2 = \", ps[1])\n",
        "print(\"Pipeline Stage 3 = \", ps[2])\n",
        "\n",
        "print(\"Label column = \", lr.getLabelCol())"
      ]
    },
    {
      "cell_type": "code",
      "execution_count": 26,
      "metadata": {
        "tags": [],
        "id": "PE3-jhYNs2-m"
      },
      "outputs": [],
      "source": [
        "# Make predictions on testing data\n",
        "\n",
        "predictions = pipelineModel.transform(testingData)"
      ]
    },
    {
      "cell_type": "code",
      "execution_count": 27,
      "metadata": {
        "tags": [],
        "colab": {
          "base_uri": "https://localhost:8080/"
        },
        "id": "O27UsWCXs2-m",
        "outputId": "7db2a89d-b709-4112-e4e0-6cc49b7113bc"
      },
      "outputs": [
        {
          "output_type": "stream",
          "name": "stdout",
          "text": [
            "24.354422246772728\n"
          ]
        }
      ],
      "source": [
        "from pyspark.ml.evaluation import RegressionEvaluator\n",
        "\n",
        "evaluator = RegressionEvaluator(predictionCol=\"prediction\", labelCol=\"SoundLevelDecibels\", metricName=\"mse\")\n",
        "mse = evaluator.evaluate(predictions)\n",
        "print(mse)"
      ]
    },
    {
      "cell_type": "code",
      "execution_count": 28,
      "metadata": {
        "tags": [],
        "colab": {
          "base_uri": "https://localhost:8080/"
        },
        "id": "mpsk6pzEs2-m",
        "outputId": "79a2edc4-9893-40a6-fe66-95c9bd0ff8b0"
      },
      "outputs": [
        {
          "output_type": "stream",
          "name": "stdout",
          "text": [
            "3.7287658285335303\n"
          ]
        }
      ],
      "source": [
        "evaluator = RegressionEvaluator(predictionCol=\"prediction\", labelCol=\"SoundLevelDecibels\", metricName=\"mae\")\n",
        "mae = evaluator.evaluate(predictions)\n",
        "print(mae)"
      ]
    },
    {
      "cell_type": "code",
      "execution_count": 29,
      "metadata": {
        "tags": [],
        "colab": {
          "base_uri": "https://localhost:8080/"
        },
        "id": "fuOFHmpQs2-m",
        "outputId": "6e6773ec-247b-4c60-ddce-5b785135d9f7"
      },
      "outputs": [
        {
          "output_type": "stream",
          "name": "stdout",
          "text": [
            "0.5053765847518492\n"
          ]
        }
      ],
      "source": [
        "evaluator = RegressionEvaluator(predictionCol=\"prediction\", labelCol=\"SoundLevelDecibels\", metricName=\"r2\")\n",
        "r2 = evaluator.evaluate(predictions)\n",
        "print(r2)"
      ]
    },
    {
      "cell_type": "code",
      "execution_count": 30,
      "metadata": {
        "tags": [],
        "colab": {
          "base_uri": "https://localhost:8080/"
        },
        "id": "Glnb8Rv6s2-m",
        "outputId": "b2157583-1c1d-4bce-ff74-72d647187982"
      },
      "outputs": [
        {
          "output_type": "stream",
          "name": "stdout",
          "text": [
            "Part 3 - Evaluation\n",
            "Mean Squared Error =  24.35\n",
            "Mean Absolute Error =  3.73\n",
            "R Squared =  0.51\n",
            "Intercept =  132.61\n"
          ]
        }
      ],
      "source": [
        "print(\"Part 3 - Evaluation\")\n",
        "\n",
        "print(\"Mean Squared Error = \", round(mse,2))\n",
        "print(\"Mean Absolute Error = \", round(mae,2))\n",
        "print(\"R Squared = \", round(r2,2))\n",
        "\n",
        "lrModel = pipelineModel.stages[-1]\n",
        "\n",
        "print(\"Intercept = \", round(lrModel.intercept,2))"
      ]
    },
    {
      "cell_type": "markdown",
      "metadata": {
        "id": "k-CDu987s2-m"
      },
      "source": [
        "## Part 4 - Persist the Model\n"
      ]
    },
    {
      "cell_type": "code",
      "execution_count": 31,
      "metadata": {
        "tags": [],
        "id": "wZifAHnfs2-m"
      },
      "outputs": [],
      "source": [
        "# Save the pipeline model as \"Final_Project\"\n",
        "\n",
        "pipelineModel.write().overwrite().save(\"Final_Project\")"
      ]
    },
    {
      "cell_type": "code",
      "execution_count": 32,
      "metadata": {
        "tags": [],
        "id": "2Ea6sJGEs2-m"
      },
      "outputs": [],
      "source": [
        "# Load the pipeline model you have created in the previous step\n",
        "loadedPipelineModel = PipelineModel.load(\"Final_Project\")"
      ]
    },
    {
      "cell_type": "code",
      "execution_count": 33,
      "metadata": {
        "tags": [],
        "id": "fmDPKp-ts2-n"
      },
      "outputs": [],
      "source": [
        "# Use the loaded pipeline model and make predictions using testingData\n",
        "predictions = loadedPipelineModel.transform(testingData)"
      ]
    },
    {
      "cell_type": "code",
      "execution_count": 34,
      "metadata": {
        "tags": [],
        "colab": {
          "base_uri": "https://localhost:8080/"
        },
        "id": "q08NGTlss2-n",
        "outputId": "6526889c-149e-4a90-945d-6546b857590d"
      },
      "outputs": [
        {
          "output_type": "stream",
          "name": "stdout",
          "text": [
            "+------------------+------------------+\n",
            "|SoundLevelDecibels|        prediction|\n",
            "+------------------+------------------+\n",
            "|           128.545|121.25440562914048|\n",
            "|           130.898|122.70281104682431|\n",
            "|           109.951|127.80380966422578|\n",
            "|           112.506|129.44660894124058|\n",
            "|           130.089|122.22655518784543|\n",
            "|           139.918|126.62151483038025|\n",
            "|           134.533| 130.6845914583634|\n",
            "|           123.312|123.11545113389359|\n",
            "|           125.741|126.95725865339958|\n",
            "|           139.808|126.54113252730056|\n",
            "|           128.595|123.06839887156663|\n",
            "|           128.484|121.03743090017933|\n",
            "|           123.537|128.39739892038955|\n",
            "|           122.938|131.67804533414386|\n",
            "|           124.493|123.93486336148476|\n",
            "|           122.754|117.89354237100211|\n",
            "|           115.846|129.30439409733037|\n",
            "|           131.221|124.74693531399491|\n",
            "|           135.924|124.74907154871491|\n",
            "|           120.076| 129.3641483351852|\n",
            "+------------------+------------------+\n",
            "only showing top 20 rows\n",
            "\n"
          ]
        }
      ],
      "source": [
        "#show top 5 rows from the predections dataframe. Display only the label column and predictions\n",
        "predictions.select(\"SoundLevelDecibels\",\"prediction\").show()"
      ]
    },
    {
      "cell_type": "code",
      "execution_count": 35,
      "metadata": {
        "tags": [],
        "colab": {
          "base_uri": "https://localhost:8080/"
        },
        "id": "ab4Z22V4s2-n",
        "outputId": "c3e1225f-f4a7-4be3-91e9-176840ea2af3"
      },
      "outputs": [
        {
          "output_type": "stream",
          "name": "stdout",
          "text": [
            "Part 4 - Evaluation\n",
            "Number of stages in the pipeline =  3\n",
            "Coefficient for Frequency is -3.8894\n",
            "Coefficient for AngleOfAttack is -2.1888\n",
            "Coefficient for ChordLength is -3.4035\n",
            "Coefficient for FreeStreamVelocity is 1.5495\n",
            "Coefficient for SuctionSideDisplacement is -2.1905\n"
          ]
        }
      ],
      "source": [
        "print(\"Part 4 - Evaluation\")\n",
        "\n",
        "loadedmodel = loadedPipelineModel.stages[-1]\n",
        "totalstages = len(loadedPipelineModel.stages)\n",
        "inputcolumns = loadedPipelineModel.stages[0].getInputCols()\n",
        "\n",
        "print(\"Number of stages in the pipeline = \", totalstages)\n",
        "for i,j in zip(inputcolumns, loadedmodel.coefficients):\n",
        "    print(f\"Coefficient for {i} is {round(j,4)}\")"
      ]
    },
    {
      "cell_type": "markdown",
      "metadata": {
        "id": "x7OsBJqks2-n"
      },
      "source": [
        "### Stop Spark Session\n"
      ]
    },
    {
      "cell_type": "code",
      "execution_count": 36,
      "metadata": {
        "tags": [],
        "id": "DFfTc0Jns2-n"
      },
      "outputs": [],
      "source": [
        "spark.stop()"
      ]
    }
  ],
  "metadata": {
    "kernelspec": {
      "display_name": "Python",
      "language": "python",
      "name": "conda-env-python-py"
    },
    "language_info": {
      "codemirror_mode": {
        "name": "ipython",
        "version": 3
      },
      "file_extension": ".py",
      "mimetype": "text/x-python",
      "name": "python",
      "nbconvert_exporter": "python",
      "pygments_lexer": "ipython3",
      "version": "3.7.12"
    },
    "colab": {
      "provenance": [],
      "toc_visible": true
    }
  },
  "nbformat": 4,
  "nbformat_minor": 0
}